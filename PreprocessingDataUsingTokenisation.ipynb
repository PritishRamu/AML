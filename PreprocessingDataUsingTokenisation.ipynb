{
  "nbformat": 4,
  "nbformat_minor": 0,
  "metadata": {
    "colab": {
      "provenance": [],
      "authorship_tag": "ABX9TyPJ76dLglxfp2iCGRR8GrRB",
      "include_colab_link": true
    },
    "kernelspec": {
      "name": "python3",
      "display_name": "Python 3"
    },
    "language_info": {
      "name": "python"
    }
  },
  "cells": [
    {
      "cell_type": "markdown",
      "metadata": {
        "id": "view-in-github",
        "colab_type": "text"
      },
      "source": [
        "<a href=\"https://colab.research.google.com/github/PritishRamu/AML/blob/main/PreprocessingDataUsingTokenisation.ipynb\" target=\"_parent\"><img src=\"https://colab.research.google.com/assets/colab-badge.svg\" alt=\"Open In Colab\"/></a>"
      ]
    },
    {
      "cell_type": "code",
      "execution_count": null,
      "metadata": {
        "colab": {
          "base_uri": "https://localhost:8080/"
        },
        "id": "TChhL8CQcGCI",
        "outputId": "ff890e60-c641-4f25-bc9e-36c544b4be0d"
      },
      "outputs": [
        {
          "output_type": "stream",
          "name": "stderr",
          "text": [
            "[nltk_data] Downloading package punkt to /root/nltk_data...\n",
            "[nltk_data]   Package punkt is already up-to-date!\n"
          ]
        }
      ],
      "source": [
        "text=\"Are you curious about tokenization? Let's see how it works! We need to analyze a couple of sentences withpunctuations to see it in action.\"\n",
        "#Sentence tokenisation\n",
        "import nltk\n",
        "nltk.download('punkt')\n",
        "from nltk.tokenize import sent_tokenize,word_tokenize\n",
        "sent_tokenize_list = sent_tokenize(text)"
      ]
    },
    {
      "cell_type": "code",
      "source": [
        "text=\"Are you curious about tokenization? Let's see how it works! We need to analyze a couple of sentences withpunctuations to see it in action.\"\n",
        "#Sentence tokenisation\n",
        "# import nltk\n",
        "# nltk.download('punkt')\n",
        "from nltk.tokenize import sent_tokenize\n",
        "sent_tokenize_list = sent_tokenize(text)\n",
        "print (\"\\nSentence tokenizer:\")\n",
        "print (sent_tokenize_list)\n",
        "\n",
        "#Create a new word tokenizer\n",
        "print(\"\\nWord tokenizer\")\n",
        "print(word_tokenize(text))\n",
        "\n",
        "\n"
      ],
      "metadata": {
        "colab": {
          "base_uri": "https://localhost:8080/"
        },
        "id": "t5tcDYwyder6",
        "outputId": "3d871fec-971e-4084-f08b-53478fe41fb4"
      },
      "execution_count": null,
      "outputs": [
        {
          "output_type": "stream",
          "name": "stdout",
          "text": [
            "\n",
            "Sentence tokenizer:\n",
            "['Are you curious about tokenization?', \"Let's see how it works!\", 'We need to analyze a couple of sentences withpunctuations to see it in action.']\n",
            "\n",
            "Word tokenizer\n",
            "['Are', 'you', 'curious', 'about', 'tokenization', '?', 'Let', \"'s\", 'see', 'how', 'it', 'works', '!', 'We', 'need', 'to', 'analyze', 'a', 'couple', 'of', 'sentences', 'withpunctuations', 'to', 'see', 'it', 'in', 'action', '.']\n"
          ]
        }
      ]
    },
    {
      "cell_type": "code",
      "source": [
        "#Create a new punkt word tokenizer\n",
        "from nltk.tokenize import WordPunctTokenizer\n",
        "punkt_word_tokenizer = WordPunctTokenizer()\n",
        "print (\"\\nWord punct tokenizer:\")\n",
        "print (punkt_word_tokenizer.tokenize(text))"
      ],
      "metadata": {
        "colab": {
          "base_uri": "https://localhost:8080/"
        },
        "id": "mvpxRGkvi4x9",
        "outputId": "fda8045e-e724-4b0e-c9b1-7c51182c2644"
      },
      "execution_count": null,
      "outputs": [
        {
          "output_type": "stream",
          "name": "stdout",
          "text": [
            "\n",
            "Word punct tokenizer:\n",
            "['Are', 'you', 'curious', 'about', 'tokenization', '?', 'Let', \"'\", 's', 'see', 'how', 'it', 'works', '!', 'We', 'need', 'to', 'analyze', 'a', 'couple', 'of', 'sentences', 'withpunctuations', 'to', 'see', 'it', 'in', 'action', '.']\n"
          ]
        }
      ]
    }
  ]
}