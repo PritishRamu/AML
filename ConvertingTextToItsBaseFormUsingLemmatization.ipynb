{
  "nbformat": 4,
  "nbformat_minor": 0,
  "metadata": {
    "colab": {
      "provenance": [],
      "authorship_tag": "ABX9TyP2leDPAfhrtwJPqwNLAUUw",
      "include_colab_link": true
    },
    "kernelspec": {
      "name": "python3",
      "display_name": "Python 3"
    },
    "language_info": {
      "name": "python"
    }
  },
  "cells": [
    {
      "cell_type": "markdown",
      "metadata": {
        "id": "view-in-github",
        "colab_type": "text"
      },
      "source": [
        "<a href=\"https://colab.research.google.com/github/PritishRamu/AML/blob/main/ConvertingTextToItsBaseFormUsingLemmatization.ipynb\" target=\"_parent\"><img src=\"https://colab.research.google.com/assets/colab-badge.svg\" alt=\"Open In Colab\"/></a>"
      ]
    },
    {
      "cell_type": "code",
      "execution_count": null,
      "metadata": {
        "colab": {
          "base_uri": "https://localhost:8080/"
        },
        "id": "_OBhnrI5rM0D",
        "outputId": "3b4989ce-cc7e-4830-dfcc-18f2caf8480c"
      },
      "outputs": [
        {
          "output_type": "stream",
          "name": "stderr",
          "text": [
            "[nltk_data] Downloading package wordnet to /root/nltk_data...\n"
          ]
        },
        {
          "output_type": "execute_result",
          "data": {
            "text/plain": [
              "True"
            ]
          },
          "metadata": {},
          "execution_count": 7
        }
      ],
      "source": [
        "from nltk.stem import WordNetLemmatizer\n",
        "import nltk\n",
        "nltk.download('wordnet')\n"
      ]
    },
    {
      "cell_type": "code",
      "source": [
        "words = ['table', 'probably', 'wolves', 'playing', 'is',\n",
        "'dog', 'the', 'beaches', 'grounded', 'dreamt',\n",
        "\n",
        "'envision']"
      ],
      "metadata": {
        "id": "BLPtmayarXNm"
      },
      "execution_count": null,
      "outputs": []
    },
    {
      "cell_type": "code",
      "source": [
        "# Compare different lemmatizers\n",
        "lemmatizers = ['NOUN LEMMATIZER', 'VERB LEMMATIZER']\n",
        "# Create the object based on WordNet lemmatizer:\n",
        "lemmatizer_wordnet = WordNetLemmatizer()"
      ],
      "metadata": {
        "id": "N9nD6hd1rcuR"
      },
      "execution_count": null,
      "outputs": []
    },
    {
      "cell_type": "code",
      "source": [
        "# In order to print the output in a tabular form, we need to format it in the right way:\n",
        "\n",
        "\n",
        "formatted_row = '{:>24}' * (len(lemmatizers) + 1)\n",
        "print ('\\n', formatted_row.format('WORD', *lemmatizers), '\\n')"
      ],
      "metadata": {
        "colab": {
          "base_uri": "https://localhost:8080/"
        },
        "id": "37x0hWWsrkHQ",
        "outputId": "777ff590-888d-4a4c-dfb6-0b7e6fe4f5fb"
      },
      "execution_count": null,
      "outputs": [
        {
          "output_type": "stream",
          "name": "stdout",
          "text": [
            "\n",
            "                     WORD         NOUN LEMMATIZER         VERB LEMMATIZER \n",
            "\n"
          ]
        }
      ]
    },
    {
      "cell_type": "code",
      "source": [
        "# Iterate through the words and lemmatize them:\n",
        "\n",
        "for word in words:\n",
        "  lemmatized_words = [lemmatizer_wordnet.lemmatize(word,pos='n'),lemmatizer_wordnet.lemmatize(word, pos='v')]\n",
        "\n",
        "print (formatted_row.format(word, *lemmatized_words))"
      ],
      "metadata": {
        "colab": {
          "base_uri": "https://localhost:8080/"
        },
        "id": "XXasQHQ6sLXM",
        "outputId": "8b943e8a-9193-4c58-ca44-b5dbefc30c89"
      },
      "execution_count": null,
      "outputs": [
        {
          "output_type": "stream",
          "name": "stdout",
          "text": [
            "                envision                envision                envision\n"
          ]
        }
      ]
    }
  ]
}