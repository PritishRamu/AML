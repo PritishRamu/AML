{
  "nbformat": 4,
  "nbformat_minor": 0,
  "metadata": {
    "colab": {
      "provenance": [],
      "authorship_tag": "ABX9TyP4d9j+dsotGv8VemkeNeiR",
      "include_colab_link": true
    },
    "kernelspec": {
      "name": "python3",
      "display_name": "Python 3"
    },
    "language_info": {
      "name": "python"
    }
  },
  "cells": [
    {
      "cell_type": "markdown",
      "metadata": {
        "id": "view-in-github",
        "colab_type": "text"
      },
      "source": [
        "<a href=\"https://colab.research.google.com/github/PritishRamu/AML/blob/main/StemmingTextData.ipynb\" target=\"_parent\"><img src=\"https://colab.research.google.com/assets/colab-badge.svg\" alt=\"Open In Colab\"/></a>"
      ]
    },
    {
      "cell_type": "code",
      "execution_count": null,
      "metadata": {
        "id": "n7_eOom6m5-i"
      },
      "outputs": [],
      "source": [
        "from nltk.stem.porter import PorterStemmer\n",
        "from nltk.stem.lancaster import LancasterStemmer\n",
        "from nltk.stem.snowball import SnowballStemmer"
      ]
    },
    {
      "cell_type": "code",
      "source": [
        "words = ['table', 'probably', 'wolves', 'playing', 'is',\n",
        "'dog', 'the', 'beaches', 'grounded', 'dreamt',\n",
        "\n",
        "'envision']\n",
        "# Compare different stemmers\n",
        "stemmers = ['PORTER', 'LANCASTER', 'SNOWBALL']"
      ],
      "metadata": {
        "id": "FjQiIFxxn9aC"
      },
      "execution_count": null,
      "outputs": []
    },
    {
      "cell_type": "code",
      "source": [
        "stemmer_porter = PorterStemmer()\n",
        "stemmer_lancaster = LancasterStemmer()\n",
        "stemmer_snowball = SnowballStemmer('english')"
      ],
      "metadata": {
        "id": "xcdddep0oDWJ"
      },
      "execution_count": null,
      "outputs": []
    },
    {
      "cell_type": "code",
      "source": [
        "formatted_row = '{:>16}' * (len(stemmers) + 1)\n",
        "print ('\\n', formatted_row.format('WORD', *stemmers), '\\n')"
      ],
      "metadata": {
        "colab": {
          "base_uri": "https://localhost:8080/"
        },
        "id": "xmIhEW3hop0D",
        "outputId": "62c84142-7e59-4755-8683-87770d6fbb8f"
      },
      "execution_count": null,
      "outputs": [
        {
          "output_type": "stream",
          "name": "stdout",
          "text": [
            "\n",
            "             WORD          PORTER       LANCASTER        SNOWBALL \n",
            "\n"
          ]
        }
      ]
    },
    {
      "cell_type": "code",
      "source": [
        "for word in words:\n",
        "  stemmed_words = [stemmer_porter.stem(word),\n",
        "  stemmer_lancaster.stem(word),\n",
        "  stemmer_snowball.stem(word)]\n",
        "\n",
        "print (formatted_row.format(word, *stemmed_words))"
      ],
      "metadata": {
        "colab": {
          "base_uri": "https://localhost:8080/"
        },
        "id": "q5v23fZ1o1yX",
        "outputId": "3e5ca418-0dc5-4441-dd04-2e13510f2812"
      },
      "execution_count": null,
      "outputs": [
        {
          "output_type": "stream",
          "name": "stdout",
          "text": [
            "        envision           envis           envid           envis\n"
          ]
        }
      ]
    }
  ]
}